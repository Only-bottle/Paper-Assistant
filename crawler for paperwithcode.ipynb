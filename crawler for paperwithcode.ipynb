{
 "cells": [
  {
   "cell_type": "markdown",
   "metadata": {},
   "source": [
    "# 라이브러리 import"
   ]
  },
  {
   "cell_type": "code",
   "execution_count": null,
   "metadata": {
    "collapsed": true
   },
   "outputs": [],
   "source": [
    "import requests\n",
    "from bs4 import BeautifulSoup\n",
    "import pprint"
   ]
  },
  {
   "cell_type": "markdown",
   "metadata": {
    "collapsed": true
   },
   "source": [
    "# 이전 PA 파일 불러오기"
   ]
  },
  {
   "cell_type": "code",
   "execution_count": null,
   "metadata": {
    "collapsed": true
   },
   "outputs": [],
   "source": [
    "pre_pa = pd.read_csv('./data/PA_LIST.csv')"
   ]
  },
  {
   "cell_type": "code",
   "execution_count": null,
   "metadata": {
    "collapsed": true
   },
   "outputs": [],
   "source": [
    "pre_pa.head(5)"
   ]
  },
  {
   "cell_type": "code",
   "execution_count": null,
   "metadata": {
    "collapsed": true
   },
   "outputs": [],
   "source": [
    "pre_pa_list = pre_pa['title & author'].tolist()"
   ]
  },
  {
   "cell_type": "markdown",
   "metadata": {
    "collapsed": true
   },
   "source": [
    "# 새로운 파일 열기"
   ]
  },
  {
   "cell_type": "code",
   "execution_count": null,
   "metadata": {
    "collapsed": true
   },
   "outputs": [],
   "source": [
    "f = open('./data/paperwithcode_list.csv','w',encoding='utf-8',newline=\"\")\n",
    "wr = csv.writer(f)\n",
    "wr.writerow(['Authors', 'Title', 'Src', 'Abs'])"
   ]
  },
  {
   "cell_type": "markdown",
   "metadata": {
    "collapsed": true
   },
   "source": [
    "# 논문 리스트 크롤링"
   ]
  },
  {
   "cell_type": "code",
   "execution_count": null,
   "metadata": {
    "collapsed": true
   },
   "outputs": [],
   "source": [
    "# variable\n",
    "title_list = []\n",
    "authors_list = []\n",
    "abstract_list = []\n",
    "src_list = []\n",
    "paper_list = []\n",
    "paper_num = 1\n",
    "overlap = False\n",
    "\n",
    "# URL variable\n",
    "headers = {'User-Agent': 'Mozilla/5.0'}\n",
    "\n",
    "# 논문 리스트 뽑기\n",
    "for num in range(1, 101):\n",
    "    papers_list_url = 'https://paperswithcode.com/latest?page='\n",
    "    papers_list_url = papers_list_url + str(num)\n",
    "    print('url : ', papers_list_url)\n",
    "    res = requests.get(papers_list_url, headers=headers)\n",
    "    soup = BeautifulSoup(res.text)\n",
    "\n",
    "    for text_1 in soup.find_all('div', class_='col-lg-9 item-content'):\n",
    "        paper_title = text_1.find('a').text\n",
    "        \n",
    "        # 현재 있는 논문과 중복 체크\n",
    "        if paper_title in pre_pa_list:\n",
    "            continue\n",
    "            \n",
    "        paper_link = text_1.find('a').get('href')\n",
    "        \n",
    "        # paper link 중복 체크\n",
    "        if not paper_link in paper_list:\n",
    "            paper_list.append(paper_link)\n",
    "        else:\n",
    "            overlap = True\n",
    "    \n",
    "    # 리스트에 겹치는 논문이 있으면 종료\n",
    "    if overlap: break\n",
    "\n",
    "print('논문 개수 : ', len(paper_list))"
   ]
  }
 ],
 "metadata": {
  "kernelspec": {
   "display_name": "Python 3",
   "language": "python",
   "name": "python3"
  },
  "language_info": {
   "codemirror_mode": {
    "name": "ipython",
    "version": 3
   },
   "file_extension": ".py",
   "mimetype": "text/x-python",
   "name": "python",
   "nbconvert_exporter": "python",
   "pygments_lexer": "ipython3",
   "version": "3.6.3"
  }
 },
 "nbformat": 4,
 "nbformat_minor": 2
}
